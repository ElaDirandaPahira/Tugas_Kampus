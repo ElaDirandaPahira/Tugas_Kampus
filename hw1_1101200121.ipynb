{
 "cells": [
  {
   "cell_type": "markdown",
   "id": "a580f831",
   "metadata": {},
   "source": [
    "Tugas Pertemuan 1\n",
    "===\n",
    "\n",
    "\n",
    "\n",
    "Nama : Ela Diranda Pahira\n",
    "---\n",
    "NIM : 1101200121\n",
    "--\n",
    "Kelas : TT-44-06\n",
    "--"
   ]
  },
  {
   "cell_type": "code",
   "execution_count": 1,
   "id": "e5cee071",
   "metadata": {},
   "outputs": [
    {
     "name": "stdout",
     "output_type": "stream",
     "text": [
      "Soal Nomor 1\n",
      "------------\n",
      "Jelaskan sejarah Phyton dengan lengkap !\n",
      "Jawaban : Phyton merupakan bahasa pemrograman yang diciptakan oleh Guido Van Rossum pada tahun 1991. Phyton menjadi bahasa pemrograman yang mudah dipahami dibandingkan bahasa pemrograman lainnya karena phyton sendiri telah dirancang agar memudahkan pada saat prototyping.  Phyton merupakan bahasa pemrograman yang bersifat fleksibel sehingga phyton terus berkembang dalam penggunaannya. Phyton Versi 2.0 dirilis Oktober 2000 dengan beberapa pengembangan fitur termasuk Garbage Collector dan Memory Management. Python 3.0 dirilis pada Desember 2008 yang merupakan versi perubahan mayor dan yang didesain sebagai versi yang tidak backward-compatible dengan versi-versi sebelumnya. Python 3.8 dirilis pada 14 Oktober 2019. Salah satu patokan dalam pengembangan Python ini adalah PEP 20 yang berjudul Zen of Python. Saat ini, Python dikelola oleh lembaga non-komersial Python Software Foundation (PSF)\n"
     ]
    }
   ],
   "source": [
    "a = 'Soal Nomor 1'\n",
    "b = 'Jelaskan sejarah Phyton dengan lengkap !'\n",
    "print (a)\n",
    "print ('------------')\n",
    "print (b)\n",
    "jawab = str(input('Jawaban : '))"
   ]
  },
  {
   "cell_type": "code",
   "execution_count": 3,
   "id": "959b840c",
   "metadata": {},
   "outputs": [
    {
     "name": "stdout",
     "output_type": "stream",
     "text": [
      "Soal Nomor 2\n",
      "------------\n",
      "Jelaskan keunggulan Phyton dibandingkan bahasa pemograman yang lain !\n",
      "Jawaban : 1. Phyton merupakan bahasa yang mudah dipahami dan fleksibel 2. Penulisan kode pada phyton lebih mudah dan sederhana karena tidak menggunakan simbol tertentu seperti kurung kurawal, atau sintaksis begin-end. Phyton juga tidak mewajibkan penggunaan titik koma pada penulisan kodenya. Sebagai gantinya, phyton menggunakan indentasi untuk mengelompokkan blok kode. 3. Python secara opsional menggunakan dynamic typing, yaitu variabel yang dibuat tidak akan diketahui tipenya sehingga ketika ia dipanggil pertama kali atau dieksekusi, kita tidak perlu mendeklarasikan variabel  dan memungkinkan tipe data berubah dalam proses eksekusi program\n"
     ]
    }
   ],
   "source": [
    "a = 'Soal Nomor 2'\n",
    "b = 'Jelaskan keunggulan Phyton dibandingkan bahasa pemograman yang lain !'\n",
    "print (a)\n",
    "print ('------------')\n",
    "print (b)\n",
    "jawab = str(input('Jawaban : '))"
   ]
  }
 ],
 "metadata": {
  "kernelspec": {
   "display_name": "Python 3",
   "language": "python",
   "name": "python3"
  },
  "language_info": {
   "codemirror_mode": {
    "name": "ipython",
    "version": 3
   },
   "file_extension": ".py",
   "mimetype": "text/x-python",
   "name": "python",
   "nbconvert_exporter": "python",
   "pygments_lexer": "ipython3",
   "version": "3.8.8"
  }
 },
 "nbformat": 4,
 "nbformat_minor": 5
}
