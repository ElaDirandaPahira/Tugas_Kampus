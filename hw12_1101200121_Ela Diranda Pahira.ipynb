{
 "cells": [
  {
   "cell_type": "markdown",
   "id": "f2788b7a",
   "metadata": {},
   "source": [
    "Tugas Pertemuan 12\n",
    "------------------------\n",
    "Make Statistics and Plot the figures\n",
    "-----------------------\n",
    "\n",
    "\n",
    "\n",
    "\n",
    "\n",
    "Nama : Ela Diranda Pahira\n",
    "--------------------\n",
    "NIM : 1101200121\n",
    "----------------------\n",
    "Kelas : TT-44-06\n",
    "----------------------"
   ]
  },
  {
   "cell_type": "markdown",
   "id": "17021487",
   "metadata": {},
   "source": [
    "--------------------------------------------------------------------------------------------------------------------------------"
   ]
  },
  {
   "cell_type": "code",
   "execution_count": 1,
   "id": "587397f7",
   "metadata": {},
   "outputs": [],
   "source": [
    "#Import library\n",
    "import pandas as pd\n",
    "import matplotlib.pyplot as plt\n",
    "import seaborn as sns"
   ]
  },
  {
   "cell_type": "code",
   "execution_count": 2,
   "id": "e7706fe8",
   "metadata": {},
   "outputs": [
    {
     "name": "stderr",
     "output_type": "stream",
     "text": [
      "C:\\anaconda\\lib\\site-packages\\IPython\\core\\interactiveshell.py:3165: DtypeWarning: Columns (22,23) have mixed types.Specify dtype option on import or set low_memory=False.\n",
      "  has_raised = await self.run_ast_nodes(code_ast.body, cell_name,\n"
     ]
    },
    {
     "data": {
      "text/html": [
       "<div>\n",
       "<style scoped>\n",
       "    .dataframe tbody tr th:only-of-type {\n",
       "        vertical-align: middle;\n",
       "    }\n",
       "\n",
       "    .dataframe tbody tr th {\n",
       "        vertical-align: top;\n",
       "    }\n",
       "\n",
       "    .dataframe thead th {\n",
       "        text-align: right;\n",
       "    }\n",
       "</style>\n",
       "<table border=\"1\" class=\"dataframe\">\n",
       "  <thead>\n",
       "    <tr style=\"text-align: right;\">\n",
       "      <th></th>\n",
       "      <th>Date_Onset</th>\n",
       "      <th>Date_Confirmation</th>\n",
       "      <th>Date_Notification</th>\n",
       "      <th>Sex</th>\n",
       "      <th>Age_Group</th>\n",
       "      <th>County_living</th>\n",
       "      <th>Township_living</th>\n",
       "      <th>Village_Living</th>\n",
       "      <th>Village_Living_Code</th>\n",
       "      <th>Enumeration_unit</th>\n",
       "      <th>...</th>\n",
       "      <th>Number_of_confirmed_cases</th>\n",
       "      <th>Serotype</th>\n",
       "      <th>MOI_County_living_Code</th>\n",
       "      <th>MOI_Township_living_Code</th>\n",
       "      <th>MOI_County_living</th>\n",
       "      <th>MOI_Township_living</th>\n",
       "      <th>MOI_County_infected_Code</th>\n",
       "      <th>MOI_Township_infected_Code</th>\n",
       "      <th>MOI_County_infected</th>\n",
       "      <th>MOI_Township_infected</th>\n",
       "    </tr>\n",
       "  </thead>\n",
       "  <tbody>\n",
       "    <tr>\n",
       "      <th>0</th>\n",
       "      <td>1998/01/02</td>\n",
       "      <td>None</td>\n",
       "      <td>1998/01/07</td>\n",
       "      <td>M</td>\n",
       "      <td>40-44</td>\n",
       "      <td>Pingtung County</td>\n",
       "      <td>Pingtung City</td>\n",
       "      <td>None</td>\n",
       "      <td>None</td>\n",
       "      <td>A1320-0136-00</td>\n",
       "      <td>...</td>\n",
       "      <td>1</td>\n",
       "      <td>None</td>\n",
       "      <td>10013</td>\n",
       "      <td>1001301</td>\n",
       "      <td>Pingtung County</td>\n",
       "      <td>Pingtung City</td>\n",
       "      <td>None</td>\n",
       "      <td>None</td>\n",
       "      <td>None</td>\n",
       "      <td>None</td>\n",
       "    </tr>\n",
       "    <tr>\n",
       "      <th>1</th>\n",
       "      <td>1998/01/03</td>\n",
       "      <td>None</td>\n",
       "      <td>1998/01/14</td>\n",
       "      <td>M</td>\n",
       "      <td>30-34</td>\n",
       "      <td>Pingtung County</td>\n",
       "      <td>Donggang Township</td>\n",
       "      <td>None</td>\n",
       "      <td>None</td>\n",
       "      <td>A1303-0150-00</td>\n",
       "      <td>...</td>\n",
       "      <td>1</td>\n",
       "      <td>DENV2</td>\n",
       "      <td>10013</td>\n",
       "      <td>1001303</td>\n",
       "      <td>Pingtung County</td>\n",
       "      <td>Donggang Township</td>\n",
       "      <td>None</td>\n",
       "      <td>None</td>\n",
       "      <td>None</td>\n",
       "      <td>None</td>\n",
       "    </tr>\n",
       "    <tr>\n",
       "      <th>2</th>\n",
       "      <td>1998/01/13</td>\n",
       "      <td>None</td>\n",
       "      <td>1998/02/18</td>\n",
       "      <td>M</td>\n",
       "      <td>55-59</td>\n",
       "      <td>Yilan County</td>\n",
       "      <td>Yilan City</td>\n",
       "      <td>None</td>\n",
       "      <td>None</td>\n",
       "      <td>A0201-0449-00</td>\n",
       "      <td>...</td>\n",
       "      <td>1</td>\n",
       "      <td>None</td>\n",
       "      <td>10002</td>\n",
       "      <td>1000201</td>\n",
       "      <td>Yilan County</td>\n",
       "      <td>Yilan City</td>\n",
       "      <td>None</td>\n",
       "      <td>None</td>\n",
       "      <td>None</td>\n",
       "      <td>None</td>\n",
       "    </tr>\n",
       "    <tr>\n",
       "      <th>3</th>\n",
       "      <td>1998/01/15</td>\n",
       "      <td>None</td>\n",
       "      <td>1998/01/23</td>\n",
       "      <td>M</td>\n",
       "      <td>35-39</td>\n",
       "      <td>Kaohsiung City</td>\n",
       "      <td>Lingya Dist.</td>\n",
       "      <td>None</td>\n",
       "      <td>None</td>\n",
       "      <td>A6408-0153-00</td>\n",
       "      <td>...</td>\n",
       "      <td>1</td>\n",
       "      <td>None</td>\n",
       "      <td>64</td>\n",
       "      <td>6400800</td>\n",
       "      <td>Kaohsiung City</td>\n",
       "      <td>Lingya District</td>\n",
       "      <td>None</td>\n",
       "      <td>None</td>\n",
       "      <td>None</td>\n",
       "      <td>None</td>\n",
       "    </tr>\n",
       "    <tr>\n",
       "      <th>4</th>\n",
       "      <td>1998/01/20</td>\n",
       "      <td>None</td>\n",
       "      <td>1998/02/04</td>\n",
       "      <td>M</td>\n",
       "      <td>55-59</td>\n",
       "      <td>Yilan County</td>\n",
       "      <td>Wujie Township</td>\n",
       "      <td>None</td>\n",
       "      <td>None</td>\n",
       "      <td>A0209-0232-00</td>\n",
       "      <td>...</td>\n",
       "      <td>1</td>\n",
       "      <td>None</td>\n",
       "      <td>10002</td>\n",
       "      <td>1000209</td>\n",
       "      <td>Yilan County</td>\n",
       "      <td>Wujie Township</td>\n",
       "      <td>None</td>\n",
       "      <td>None</td>\n",
       "      <td>None</td>\n",
       "      <td>None</td>\n",
       "    </tr>\n",
       "  </tbody>\n",
       "</table>\n",
       "<p>5 rows × 30 columns</p>\n",
       "</div>"
      ],
      "text/plain": [
       "   Date_Onset Date_Confirmation Date_Notification Sex Age_Group  \\\n",
       "0  1998/01/02              None        1998/01/07   M     40-44   \n",
       "1  1998/01/03              None        1998/01/14   M     30-34   \n",
       "2  1998/01/13              None        1998/02/18   M     55-59   \n",
       "3  1998/01/15              None        1998/01/23   M     35-39   \n",
       "4  1998/01/20              None        1998/02/04   M     55-59   \n",
       "\n",
       "     County_living    Township_living Village_Living Village_Living_Code  \\\n",
       "0  Pingtung County      Pingtung City           None                None   \n",
       "1  Pingtung County  Donggang Township           None                None   \n",
       "2     Yilan County         Yilan City           None                None   \n",
       "3   Kaohsiung City       Lingya Dist.           None                None   \n",
       "4     Yilan County     Wujie Township           None                None   \n",
       "\n",
       "  Enumeration_unit  ... Number_of_confirmed_cases Serotype  \\\n",
       "0    A1320-0136-00  ...                         1     None   \n",
       "1    A1303-0150-00  ...                         1    DENV2   \n",
       "2    A0201-0449-00  ...                         1     None   \n",
       "3    A6408-0153-00  ...                         1     None   \n",
       "4    A0209-0232-00  ...                         1     None   \n",
       "\n",
       "  MOI_County_living_Code MOI_Township_living_Code MOI_County_living  \\\n",
       "0                  10013                  1001301   Pingtung County   \n",
       "1                  10013                  1001303   Pingtung County   \n",
       "2                  10002                  1000201      Yilan County   \n",
       "3                     64                  6400800    Kaohsiung City   \n",
       "4                  10002                  1000209      Yilan County   \n",
       "\n",
       "  MOI_Township_living MOI_County_infected_Code MOI_Township_infected_Code  \\\n",
       "0       Pingtung City                     None                       None   \n",
       "1   Donggang Township                     None                       None   \n",
       "2          Yilan City                     None                       None   \n",
       "3     Lingya District                     None                       None   \n",
       "4      Wujie Township                     None                       None   \n",
       "\n",
       "  MOI_County_infected MOI_Township_infected  \n",
       "0                None                  None  \n",
       "1                None                  None  \n",
       "2                None                  None  \n",
       "3                None                  None  \n",
       "4                None                  None  \n",
       "\n",
       "[5 rows x 30 columns]"
      ]
     },
     "execution_count": 2,
     "metadata": {},
     "output_type": "execute_result"
    }
   ],
   "source": [
    "#Import file csv\n",
    "data = pd.read_csv('Dengue_Daily_EN.csv')\n",
    "data.head()"
   ]
  },
  {
   "cell_type": "code",
   "execution_count": 3,
   "id": "1a5066f7",
   "metadata": {},
   "outputs": [
    {
     "name": "stdout",
     "output_type": "stream",
     "text": [
      "<class 'pandas.core.frame.DataFrame'>\n",
      "RangeIndex: 79257 entries, 0 to 79256\n",
      "Data columns (total 30 columns):\n",
      " #   Column                           Non-Null Count  Dtype \n",
      "---  ------                           --------------  ----- \n",
      " 0   Date_Onset                       79257 non-null  object\n",
      " 1   Date_Confirmation                79257 non-null  object\n",
      " 2   Date_Notification                79257 non-null  object\n",
      " 3   Sex                              79257 non-null  object\n",
      " 4   Age_Group                        79257 non-null  object\n",
      " 5   County_living                    79257 non-null  object\n",
      " 6   Township_living                  79257 non-null  object\n",
      " 7   Village_Living                   79257 non-null  object\n",
      " 8   Village_Living_Code              79257 non-null  object\n",
      " 9   Enumeration_unit                 79257 non-null  object\n",
      " 10  Enumeration_unit_long            79257 non-null  object\n",
      " 11  Enumeration_unit_lat             79257 non-null  object\n",
      " 12  First_level_dissemination_unit   79257 non-null  object\n",
      " 13  Second_level_dissemination_unit  79257 non-null  object\n",
      " 14  County_infected                  79257 non-null  object\n",
      " 15  Township_infected                79257 non-null  object\n",
      " 16  Village_infected                 79257 non-null  object\n",
      " 17  Village_infected_Code            79257 non-null  object\n",
      " 18  Imported                         79257 non-null  object\n",
      " 19  Country_infected                 79257 non-null  object\n",
      " 20  Number_of_confirmed_cases        79257 non-null  int64 \n",
      " 21  Serotype                         79257 non-null  object\n",
      " 22  MOI_County_living_Code           79257 non-null  object\n",
      " 23  MOI_Township_living_Code         79257 non-null  object\n",
      " 24  MOI_County_living                79257 non-null  object\n",
      " 25  MOI_Township_living              79257 non-null  object\n",
      " 26  MOI_County_infected_Code         79257 non-null  object\n",
      " 27  MOI_Township_infected_Code       79257 non-null  object\n",
      " 28  MOI_County_infected              79257 non-null  object\n",
      " 29  MOI_Township_infected            79257 non-null  object\n",
      "dtypes: int64(1), object(29)\n",
      "memory usage: 18.1+ MB\n"
     ]
    }
   ],
   "source": [
    "data.info()"
   ]
  },
  {
   "cell_type": "markdown",
   "id": "83cddb8d",
   "metadata": {},
   "source": [
    "Menampilkan nama-nama variabel \n",
    "-----------------------\n",
    "\n",
    "unique digunakan agar nama-nama variabel yang ditampilkan tidak ada yang double\n",
    "----------------------"
   ]
  },
  {
   "cell_type": "code",
   "execution_count": 4,
   "id": "c4f7d0d8",
   "metadata": {},
   "outputs": [],
   "source": [
    "#County\n",
    "unique_county = data[data.Number_of_confirmed_cases>0]['County_living'].unique()\n",
    "unique_county.sort()"
   ]
  },
  {
   "cell_type": "code",
   "execution_count": 5,
   "id": "76484eb0",
   "metadata": {},
   "outputs": [
    {
     "data": {
      "text/plain": [
       "array(['Changhua County', 'Chiayi City', 'Chiayi County', 'Hsinchu City',\n",
       "       'Hsinchu County', 'Hualien County', 'Kaohsiung City',\n",
       "       'Keelung City', 'Kinmen County', 'Lienchiang County',\n",
       "       'Miaoli County', 'Nantou County', 'New Taipei City',\n",
       "       'Penghu County', 'Pingtung County', 'Taichung City', 'Tainan City',\n",
       "       'Taipei City', 'Taitung County', 'Taoyuan City', 'Yilan County',\n",
       "       'Yunlin County'], dtype=object)"
      ]
     },
     "execution_count": 5,
     "metadata": {},
     "output_type": "execute_result"
    }
   ],
   "source": [
    "unique_county"
   ]
  },
  {
   "cell_type": "code",
   "execution_count": 18,
   "id": "08c3e764",
   "metadata": {},
   "outputs": [],
   "source": [
    "#Age group\n",
    "unique_Age_Group = data[data.Number_of_confirmed_cases>0]['Age_Group'].unique()\n",
    "unique_Age_Group.sort()"
   ]
  },
  {
   "cell_type": "code",
   "execution_count": 20,
   "id": "a5d3e00c",
   "metadata": {},
   "outputs": [
    {
     "data": {
      "text/plain": [
       "array(['0', '1', '10-14', '15-19', '2', '20-24', '25-29', '3', '30-34',\n",
       "       '35-39', '4', '40-44', '45-49', '5-9', '50-54', '55-59', '60-64',\n",
       "       '65-69', '70+'], dtype=object)"
      ]
     },
     "execution_count": 20,
     "metadata": {},
     "output_type": "execute_result"
    }
   ],
   "source": [
    "unique_Age_Group"
   ]
  },
  {
   "cell_type": "markdown",
   "id": "7b834e5f",
   "metadata": {},
   "source": [
    "Mencari daftar variabel yang terkonfirmasi kasus\n",
    "-----------------"
   ]
  },
  {
   "cell_type": "code",
   "execution_count": 21,
   "id": "2677014c",
   "metadata": {},
   "outputs": [],
   "source": [
    "#County\n",
    "county_confirmed_case = []\n",
    "for i in unique_county:\n",
    "    county_confirmed_case.append(data[data.Number_of_confirmed_cases>0][data['County_living']==i].Number_of_confirmed_cases.sum())"
   ]
  },
  {
   "cell_type": "code",
   "execution_count": 22,
   "id": "1540a45e",
   "metadata": {},
   "outputs": [],
   "source": [
    "#Age group\n",
    "age_confirmed_case = []\n",
    "for i in unique_Age_Group:\n",
    "    age_confirmed_case.append(data[data.Number_of_confirmed_cases>0][data['Age_Group']==i].Number_of_confirmed_cases.sum())"
   ]
  },
  {
   "cell_type": "markdown",
   "id": "e302d514",
   "metadata": {},
   "source": [
    "Menampilkan daftar variabel yang terkonfirmasi kasus\n",
    "-----------------------------------------------------------------"
   ]
  },
  {
   "cell_type": "code",
   "execution_count": 23,
   "id": "a931ecf7",
   "metadata": {},
   "outputs": [
    {
     "name": "stdout",
     "output_type": "stream",
     "text": [
      "{('Nantou County', 87), ('Pingtung County', 2180), ('Hualien County', 44), ('Chiayi County', 93), ('Keelung City', 43), ('Yilan County', 50), ('Miaoli County', 88), ('Hsinchu County', 128), ('Hsinchu City', 77), ('Lienchiang County', 2), ('Taichung City', 676), ('Taoyuan City', 538), ('Penghu County', 153), ('Taitung County', 58), ('Kinmen County', 10), ('Changhua County', 222), ('Kaohsiung City', 46084), ('Tainan City', 26814), ('Yunlin County', 104), ('Chiayi City', 58), ('New Taipei City', 857), ('Taipei City', 893)}\n"
     ]
    }
   ],
   "source": [
    "#County\n",
    "print(set(zip(unique_county, county_confirmed_case)))"
   ]
  },
  {
   "cell_type": "code",
   "execution_count": 28,
   "id": "f2a7257a",
   "metadata": {},
   "outputs": [
    {
     "name": "stdout",
     "output_type": "stream",
     "text": [
      "{('2', 220), ('35-39', 5926), ('55-59', 7449), ('65-69', 5142), ('30-34', 5756), ('40-44', 5516), ('45-49', 5858), ('20-24', 5246), ('25-29', 5206), ('60-64', 7092), ('10-14', 3203), ('15-19', 4230), ('5-9', 1975), ('1', 150), ('50-54', 6799), ('70+', 8916), ('4', 246), ('3', 267), ('0', 62)}\n"
     ]
    }
   ],
   "source": [
    "#Age group\n",
    "print(set(zip(unique_Age_Group, age_confirmed_case)))"
   ]
  },
  {
   "cell_type": "markdown",
   "id": "30f843fe",
   "metadata": {},
   "source": [
    "Menampung data yang kosong/nan\n",
    "--------------------------------------------"
   ]
  },
  {
   "cell_type": "code",
   "execution_count": 26,
   "id": "e214931e",
   "metadata": {},
   "outputs": [],
   "source": [
    "#County\n",
    "nan_indices = []\n",
    "for i in range(len(unique_county)):\n",
    "    if type(unique_county[i])==float:\n",
    "        nan_indices.append(i)\n",
    "unique_county = list(unique_county)\n",
    "county_confirmed_case = list(county_confirmed_case)"
   ]
  },
  {
   "cell_type": "code",
   "execution_count": 27,
   "id": "c0317822",
   "metadata": {},
   "outputs": [],
   "source": [
    "#Age group\n",
    "nan_indices = []\n",
    "for i in range(len(unique_Age_Group)):\n",
    "    if type(unique_Age_Group[i])==float:\n",
    "        nan_indices.append(i)\n",
    "unique_Age_Group = list(unique_Age_Group)\n",
    "age_confirmed_case = list(age_confirmed_case)"
   ]
  },
  {
   "cell_type": "markdown",
   "id": "082b1616",
   "metadata": {},
   "source": [
    "Menghapus data yang kosong/nan\n",
    "-----------------------"
   ]
  },
  {
   "cell_type": "code",
   "execution_count": 29,
   "id": "6e9ce62e",
   "metadata": {},
   "outputs": [
    {
     "data": {
      "text/plain": [
       "['Changhua County',\n",
       " 'Chiayi City',\n",
       " 'Chiayi County',\n",
       " 'Hsinchu City',\n",
       " 'Hsinchu County',\n",
       " 'Hualien County',\n",
       " 'Kaohsiung City',\n",
       " 'Keelung City',\n",
       " 'Kinmen County',\n",
       " 'Lienchiang County',\n",
       " 'Miaoli County',\n",
       " 'Nantou County',\n",
       " 'New Taipei City',\n",
       " 'Penghu County',\n",
       " 'Pingtung County',\n",
       " 'Taichung City',\n",
       " 'Tainan City',\n",
       " 'Taipei City',\n",
       " 'Taitung County',\n",
       " 'Taoyuan City',\n",
       " 'Yilan County',\n",
       " 'Yunlin County']"
      ]
     },
     "execution_count": 29,
     "metadata": {},
     "output_type": "execute_result"
    }
   ],
   "source": [
    "#County\n",
    "for i in nan_indices:\n",
    "    unique_county.pop\n",
    "    county_confirmed_case.pop(i)   \n",
    "unique_county"
   ]
  },
  {
   "cell_type": "code",
   "execution_count": 30,
   "id": "410ae8ff",
   "metadata": {},
   "outputs": [
    {
     "data": {
      "text/plain": [
       "['0',\n",
       " '1',\n",
       " '10-14',\n",
       " '15-19',\n",
       " '2',\n",
       " '20-24',\n",
       " '25-29',\n",
       " '3',\n",
       " '30-34',\n",
       " '35-39',\n",
       " '4',\n",
       " '40-44',\n",
       " '45-49',\n",
       " '5-9',\n",
       " '50-54',\n",
       " '55-59',\n",
       " '60-64',\n",
       " '65-69',\n",
       " '70+']"
      ]
     },
     "execution_count": 30,
     "metadata": {},
     "output_type": "execute_result"
    }
   ],
   "source": [
    "#Age group\n",
    "for i in nan_indices:\n",
    "    unique_Age_Group.pop\n",
    "    age_confirmed_case.pop(i)   \n",
    "unique_Age_Group"
   ]
  },
  {
   "cell_type": "markdown",
   "id": "ea30b5ee",
   "metadata": {},
   "source": [
    "Membuat grafik\n",
    "-------------"
   ]
  },
  {
   "cell_type": "code",
   "execution_count": 16,
   "id": "6e09c1f8",
   "metadata": {},
   "outputs": [
    {
     "data": {
      "image/png": "[encoded data removed]",
      "text/plain": [
       "<Figure size 720x576 with 1 Axes>"
      ]
     },
     "metadata": {},
     "output_type": "display_data"
    }
   ],
   "source": [
    "#County\n",
    "df = pd.DataFrame({'County':unique_county,\n",
    "                   'Number of cases for each county':county_confirmed_case})\n",
    "df = df.sort_values(['Number of cases for each county'])\n",
    "sns.set(style='darkgrid')\n",
    "plt.figure(figsize=(10,8))\n",
    "sns.barplot(\n",
    "    x = 'Number of cases for each county',\n",
    "    y = 'County',\n",
    "    data = df,\n",
    "    estimator = sum,\n",
    "    ci = None)\n",
    "plt.show()"
   ]
  },
  {
   "cell_type": "code",
   "execution_count": 31,
   "id": "db3922ff",
   "metadata": {},
   "outputs": [
    {
     "data": {
      "image/png": "[encoded data removed]",
      "text/plain": [
       "<Figure size 720x576 with 1 Axes>"
      ]
     },
     "metadata": {},
     "output_type": "display_data"
    }
   ],
   "source": [
    "#Age group\n",
    "df = pd.DataFrame({'Age group':unique_Age_Group,\n",
    "                   'Number of cases for each age group':age_confirmed_case})\n",
    "df = df.sort_values(['Number of cases for each age group'])\n",
    "sns.set(style='darkgrid')\n",
    "plt.figure(figsize=(10,8))\n",
    "sns.barplot(\n",
    "    x = 'Number of cases for each age group',\n",
    "    y = 'Age group',\n",
    "    data = df,\n",
    "    estimator = sum,\n",
    "    ci = None)\n",
    "plt.show()"
   ]
  },
  {
   "cell_type": "code",
   "execution_count": null,
   "id": "a4153bca",
   "metadata": {},
   "outputs": [],
   "source": []
  }
 ],
 "metadata": {
  "kernelspec": {
   "display_name": "Python 3",
   "language": "python",
   "name": "python3"
  },
  "language_info": {
   "codemirror_mode": {
    "name": "ipython",
    "version": 3
   },
   "file_extension": ".py",
   "mimetype": "text/x-python",
   "name": "python",
   "nbconvert_exporter": "python",
   "pygments_lexer": "ipython3",
   "version": "3.8.8"
  }
 },
 "nbformat": 4,
 "nbformat_minor": 5
}
