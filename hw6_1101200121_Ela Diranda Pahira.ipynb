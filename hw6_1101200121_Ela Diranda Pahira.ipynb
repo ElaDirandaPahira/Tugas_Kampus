{
 "cells": [
  {
   "cell_type": "markdown",
   "id": "60383851",
   "metadata": {},
   "source": [
    "Tugas Pertemuan 6\n",
    "===\n",
    "\n",
    "\n",
    "Nama : Ela Diranda Pahira\n",
    "---\n",
    "NIM    : 1101200121\n",
    "---\n",
    "Kelas : TT-44-06\n",
    "----\n",
    "\n",
    "\n",
    "\n",
    "Soal :\n",
    "\n",
    "•Buatlah suatu fungsi untuk menjalankan point berikut pada file “students - Sheet2.csv” terlampir.\n",
    "\n",
    "1.Fungsi untuk menghitung nilai rata – rata\n",
    "\n",
    "2.Fungsi untuk mencari siswa dengan nilai tertinggi\n",
    "\n",
    "3.Fungsi untuk mencari siswa dengan nilai terendah"
   ]
  },
  {
   "cell_type": "markdown",
   "id": "b28065cc",
   "metadata": {},
   "source": [
    "-------------------------------------------------------------------------------------------------------------------------------\n",
    "Membuka File CSV "
   ]
  },
  {
   "cell_type": "code",
   "execution_count": 1,
   "id": "bbeb1eb8",
   "metadata": {},
   "outputs": [],
   "source": [
    "import csv"
   ]
  },
  {
   "cell_type": "code",
   "execution_count": 2,
   "id": "2ea3691f",
   "metadata": {},
   "outputs": [
    {
     "data": {
      "text/plain": [
       "[{'id': '111111',\n",
       "  'first_name': 'John',\n",
       "  'last_name': 'Doe',\n",
       "  'QUIZ': '60',\n",
       "  'MIDTERM': '65',\n",
       "  'FINAL': '77'},\n",
       " {'id': '111112',\n",
       "  'first_name': 'Jane',\n",
       "  'last_name': 'Smith',\n",
       "  'QUIZ': '70',\n",
       "  'MIDTERM': '63',\n",
       "  'FINAL': '80'},\n",
       " {'id': '111113',\n",
       "  'first_name': 'Sarah',\n",
       "  'last_name': 'Thomas',\n",
       "  'QUIZ': '85',\n",
       "  'MIDTERM': '80',\n",
       "  'FINAL': '88'},\n",
       " {'id': '111114',\n",
       "  'first_name': 'Frank',\n",
       "  'last_name': 'Brown',\n",
       "  'QUIZ': '75',\n",
       "  'MIDTERM': '85',\n",
       "  'FINAL': '90'},\n",
       " {'id': '111115',\n",
       "  'first_name': 'Mike',\n",
       "  'last_name': 'Davis',\n",
       "  'QUIZ': '90',\n",
       "  'MIDTERM': '93',\n",
       "  'FINAL': '85'},\n",
       " {'id': '111116',\n",
       "  'first_name': 'Jennifer',\n",
       "  'last_name': 'Wilson',\n",
       "  'QUIZ': '83',\n",
       "  'MIDTERM': '84',\n",
       "  'FINAL': '85'},\n",
       " {'id': '111117',\n",
       "  'first_name': 'Jessica',\n",
       "  'last_name': 'Garcia',\n",
       "  'QUIZ': '90',\n",
       "  'MIDTERM': '86',\n",
       "  'FINAL': '95'},\n",
       " {'id': '111118',\n",
       "  'first_name': 'Fred',\n",
       "  'last_name': 'Clark',\n",
       "  'QUIZ': '67',\n",
       "  'MIDTERM': '69',\n",
       "  'FINAL': '75'},\n",
       " {'id': '111119',\n",
       "  'first_name': 'Bob',\n",
       "  'last_name': 'Lopez',\n",
       "  'QUIZ': '77',\n",
       "  'MIDTERM': '70',\n",
       "  'FINAL': '75'}]"
      ]
     },
     "execution_count": 2,
     "metadata": {},
     "output_type": "execute_result"
    }
   ],
   "source": [
    "with open('phytontugas6.csv','r') as f:\n",
    "    csv_reader = csv.DictReader(f)\n",
    "    data = list(csv_reader)\n",
    "    \n",
    "data"
   ]
  },
  {
   "cell_type": "markdown",
   "id": "84093947",
   "metadata": {},
   "source": [
    "Menampilkan ID dan Nilai Mahasiswa (quiz, midterm dan final)"
   ]
  },
  {
   "cell_type": "code",
   "execution_count": 4,
   "id": "51ff9c8f",
   "metadata": {},
   "outputs": [
    {
     "name": "stdout",
     "output_type": "stream",
     "text": [
      "  ID       Quiz Midterm Final\n"
     ]
    },
    {
     "ename": "NameError",
     "evalue": "name 'data' is not defined",
     "output_type": "error",
     "traceback": [
      "\u001b[1;31m---------------------------------------------------------------------------\u001b[0m",
      "\u001b[1;31mNameError\u001b[0m                                 Traceback (most recent call last)",
      "\u001b[1;32m<ipython-input-4-42c2c8d4cdb9>\u001b[0m in \u001b[0;36m<module>\u001b[1;34m\u001b[0m\n\u001b[0;32m      3\u001b[0m \u001b[0mdat_mhs\u001b[0m \u001b[1;33m=\u001b[0m \u001b[1;33m{\u001b[0m\u001b[1;33m}\u001b[0m\u001b[1;33m\u001b[0m\u001b[1;33m\u001b[0m\u001b[0m\n\u001b[0;32m      4\u001b[0m \u001b[1;33m\u001b[0m\u001b[0m\n\u001b[1;32m----> 5\u001b[1;33m \u001b[1;32mfor\u001b[0m \u001b[0mdat\u001b[0m \u001b[1;32min\u001b[0m \u001b[0mdata\u001b[0m\u001b[1;33m:\u001b[0m\u001b[1;33m\u001b[0m\u001b[1;33m\u001b[0m\u001b[0m\n\u001b[0m\u001b[0;32m      6\u001b[0m     \u001b[0mdat_mhs\u001b[0m\u001b[1;33m[\u001b[0m\u001b[0mdat\u001b[0m\u001b[1;33m[\u001b[0m\u001b[1;34m'id'\u001b[0m\u001b[1;33m]\u001b[0m\u001b[1;33m]\u001b[0m \u001b[1;33m=\u001b[0m \u001b[1;33m[\u001b[0m\u001b[0mdat\u001b[0m\u001b[1;33m[\u001b[0m\u001b[1;34m'QUIZ'\u001b[0m\u001b[1;33m]\u001b[0m\u001b[1;33m]\u001b[0m \u001b[1;33m+\u001b[0m \u001b[1;33m[\u001b[0m\u001b[0mdat\u001b[0m\u001b[1;33m[\u001b[0m\u001b[1;34m'MIDTERM'\u001b[0m\u001b[1;33m]\u001b[0m\u001b[1;33m]\u001b[0m \u001b[1;33m+\u001b[0m \u001b[1;33m[\u001b[0m\u001b[0mdat\u001b[0m\u001b[1;33m[\u001b[0m\u001b[1;34m'FINAL'\u001b[0m\u001b[1;33m]\u001b[0m\u001b[1;33m]\u001b[0m\u001b[1;33m\u001b[0m\u001b[1;33m\u001b[0m\u001b[0m\n\u001b[0;32m      7\u001b[0m \u001b[1;33m\u001b[0m\u001b[0m\n",
      "\u001b[1;31mNameError\u001b[0m: name 'data' is not defined"
     ]
    }
   ],
   "source": [
    "print ('  ID       Quiz Midterm Final')\n",
    "\n",
    "dat_mhs = {}\n",
    "\n",
    "for dat in data:\n",
    "    dat_mhs[dat['id']] = [dat['id']] + [dat['MIDTERM']] + [dat['FINAL']]\n",
    "    \n",
    "dat_mhs"
   ]
  },
  {
   "cell_type": "markdown",
   "id": "aa3cd576",
   "metadata": {},
   "source": [
    "Mencari Nilai Rata-Rata Setiap Mahasiswa"
   ]
  },
  {
   "cell_type": "code",
   "execution_count": 13,
   "id": "a316778b",
   "metadata": {},
   "outputs": [
    {
     "name": "stdout",
     "output_type": "stream",
     "text": [
      "  ID       Nilai Rata-Rata\n"
     ]
    },
    {
     "data": {
      "text/plain": [
       "{'111111': 67.33333333333333,\n",
       " '111112': 71.0,\n",
       " '111113': 84.33333333333333,\n",
       " '111114': 83.33333333333333,\n",
       " '111115': 89.33333333333333,\n",
       " '111116': 84.0,\n",
       " '111117': 90.33333333333333,\n",
       " '111118': 70.33333333333333,\n",
       " '111119': 74.0}"
      ]
     },
     "execution_count": 13,
     "metadata": {},
     "output_type": "execute_result"
    }
   ],
   "source": [
    "print ('  ID       Nilai Rata-Rata')\n",
    "\n",
    "dat_mhs_rata = {}\n",
    "\n",
    "for dat_mhs, rata_list in dat_mhs.items():\n",
    "    rata_sum = 0\n",
    "    for rata in rata_list:\n",
    "        rata_sum = rata_sum + int (rata)\n",
    "    dat_mhs_rata[dat_mhs] = rata_sum/len(rata_list)\n",
    "    \n",
    "dat_mhs_rata"
   ]
  },
  {
   "cell_type": "markdown",
   "id": "0b1caee8",
   "metadata": {},
   "source": [
    "Mencari Nilai Tertinggi dan Nilai Terendah "
   ]
  },
  {
   "cell_type": "code",
   "execution_count": 14,
   "id": "b0bd53bf",
   "metadata": {},
   "outputs": [
    {
     "name": "stdout",
     "output_type": "stream",
     "text": [
      " Nilai tertinggi :\n",
      " Nilai               ID Mahasiswa\n",
      "(90.33333333333333, '111117')\n",
      "\n",
      " Nilai terendah :\n",
      " Nilai               ID Mahasiswa\n",
      "(67.33333333333333, '111111')\n"
     ]
    }
   ],
   "source": [
    "print (' Nilai tertinggi :')\n",
    "print (' Nilai               ID Mahasiswa')\n",
    "print(max(zip(dat_mhs_rata.values(),  dat_mhs_rata.keys())))\n",
    "\n",
    "print ('\\n Nilai terendah :')\n",
    "print (' Nilai               ID Mahasiswa')\n",
    "print(min(zip(dat_mhs_rata.values(),  dat_mhs_rata.keys())))"
   ]
  }
 ],
 "metadata": {
  "kernelspec": {
   "display_name": "Python 3",
   "language": "python",
   "name": "python3"
  },
  "language_info": {
   "codemirror_mode": {
    "name": "ipython",
    "version": 3
   },
   "file_extension": ".py",
   "mimetype": "text/x-python",
   "name": "python",
   "nbconvert_exporter": "python",
   "pygments_lexer": "ipython3",
   "version": "3.8.8"
  }
 },
 "nbformat": 4,
 "nbformat_minor": 5
}
