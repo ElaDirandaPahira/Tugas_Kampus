{
 "cells": [
  {
   "cell_type": "markdown",
   "id": "a62ad896",
   "metadata": {},
   "source": [
    "Tugas Pertemuan 5\n",
    "=====\n",
    "\n",
    "\n",
    "\n",
    "Nama : Ela Diranda Pahira\n",
    "-----------\n",
    "NIM    : 1101200121\n",
    "--------\n",
    "Kelas : TT-44-06\n",
    "------------\n",
    "\n",
    "Soal :\n",
    "Create a function with an integer number input, and a list type output, which create a list of Fibonacci sequence"
   ]
  },
  {
   "cell_type": "code",
   "execution_count": 1,
   "id": "204e0ca9",
   "metadata": {},
   "outputs": [
    {
     "name": "stdout",
     "output_type": "stream",
     "text": [
      "-------------------------------------Program Mencari Nilai Fibonacci ke-N--------------------------------------------------\n",
      "\n",
      "Deret Fibonacci : \n",
      "[0, 1, 1, 2, 3, 5, 8, 13, 21, 34, 55, 89, 144, 233, 377, '....']\n",
      "\n",
      "Banyak nilai fibonacci yang ingin dicari : 5\n",
      " \n",
      "Nilai integer ke-1 : 2\n",
      "Nilai fibonaccinya : 1\n",
      "-------------------------\n",
      "Nilai integer ke-2 : 8\n",
      "Nilai fibonaccinya : 21\n",
      "-------------------------\n",
      "Nilai integer ke-3 : 5\n",
      "Nilai fibonaccinya : 5\n",
      "-------------------------\n",
      "Nilai integer ke-4 : 1\n",
      "Nilai fibonaccinya : 1\n",
      "-------------------------\n",
      "Nilai integer ke-5 : 0\n",
      "Nilai fibonaccinya : 0\n",
      "-------------------------\n",
      " \n",
      "List nilai integer   :  [2, 8, 5, 1, 0]\n",
      "List nilai fibonacci :  [1, 21, 5, 1, 0]\n"
     ]
    }
   ],
   "source": [
    "print ('-------------------------------------Program Mencari Nilai Fibonacci ke-N--------------------------------------------------')\n",
    "f = [0, 1, 1, 2, 3, 5, 8, 13, 21, 34, 55, 89, 144, 233, 377, '....']\n",
    "print ('\\nDeret Fibonacci : ')\n",
    "print (f)\n",
    "\n",
    "def fibonacci (x) :\n",
    "    if x < 0:\n",
    "        return\n",
    "    elif x == 0:\n",
    "        return 0\n",
    "    elif x == 1:\n",
    "        return 1\n",
    "    else:\n",
    "        return fibonacci (x-1) + fibonacci (x-2)\n",
    "    \n",
    "n = int(input('\\nBanyak nilai fibonacci yang ingin dicari : '))\n",
    "i = 1\n",
    "print (' ')\n",
    "listint = []\n",
    "listfb = []\n",
    "for i in range (n):\n",
    "    x = int(input('Nilai integer ke-'+str(i+1)+ ' : '))\n",
    "    listint.append(x)\n",
    "    print ('Nilai fibonaccinya :',fibonacci(x))\n",
    "    listfb.append(fibonacci(x))\n",
    "    print ('-------------------------')\n",
    "\n",
    "print (' ')\n",
    "print ('List nilai integer   : ',listint)\n",
    "print ('List nilai fibonacci : ',listfb)"
   ]
  }
 ],
 "metadata": {
  "kernelspec": {
   "display_name": "Python 3",
   "language": "python",
   "name": "python3"
  },
  "language_info": {
   "codemirror_mode": {
    "name": "ipython",
    "version": 3
   },
   "file_extension": ".py",
   "mimetype": "text/x-python",
   "name": "python",
   "nbconvert_exporter": "python",
   "pygments_lexer": "ipython3",
   "version": "3.8.8"
  }
 },
 "nbformat": 4,
 "nbformat_minor": 5
}
