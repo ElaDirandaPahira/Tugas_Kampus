{
 "cells": [
  {
   "cell_type": "markdown",
   "id": "2602ebdb",
   "metadata": {},
   "source": [
    "Tugas Pertemuan 2\n",
    "===============\n",
    "\n",
    "\n",
    "Nama : Ela Diranda Pahira\n",
    "---\n",
    "NIM    : 1101200121\n",
    "--\n",
    "Kelas : TT-44-06\n",
    "---\n",
    "\n",
    "\n",
    "Soal :\n",
    "1. Buatlah loop yang menghitung banyaknya spasi pada sebuah string !\n",
    "2. Jika variabel x dan y adalah string. Buatlah kode yang menampilkan print string ini urut secara alfabet !\n",
    "3. Variabel x dan y adalah numbers. Buatlah kode yang meminta user memasukkan operator aritmatika dan menampilkan hasil            aritmatika x dan y tersebut !\n",
    "4. Buatlah program yang meminta 5 angka integer dan mengeluarkan nilai maksimum dan minimum dari urutan inputan angka tersebut    !"
   ]
  },
  {
   "cell_type": "code",
   "execution_count": 4,
   "id": "68736449",
   "metadata": {},
   "outputs": [
    {
     "name": "stdout",
     "output_type": "stream",
     "text": [
      "                                                    Jawaban Nomor 1                                                     \n",
      "Masukkan sebuah kata/kalimat : Selamat pagi semuanya\n",
      "Jumlah spasi :  2\n"
     ]
    }
   ],
   "source": [
    "jwb = 'Jawaban Nomor 1'\n",
    "a = jwb.center (120)\n",
    "print (a)\n",
    "\n",
    "count = 0\n",
    "x = input ('Masukkan sebuah kata/kalimat : ')\n",
    "y = ' '\n",
    "for i in x :\n",
    "    if i == y :\n",
    "        count += 1\n",
    "print ('Jumlah spasi : ', count)"
   ]
  },
  {
   "cell_type": "code",
   "execution_count": 5,
   "id": "74209fb8",
   "metadata": {},
   "outputs": [
    {
     "name": "stdout",
     "output_type": "stream",
     "text": [
      "                                                    Jawaban Nomor 2                                                     \n",
      "Masukkan sebuah string !\n",
      "x : Budi\n",
      "y : Ani\n",
      "string yang diinput adalah :\n",
      "['Budi', 'Ani']\n",
      "String yang telah diurutkan berdasarkan alfabet : \n",
      "['Ani', 'Budi']\n"
     ]
    }
   ],
   "source": [
    "jwb = 'Jawaban Nomor 2'\n",
    "a = jwb.center (120)\n",
    "print (a)\n",
    "\n",
    "print ('Masukkan sebuah string !')\n",
    "x = input ('x : ')\n",
    "y = input ('y : ')\n",
    "print ('string yang diinput adalah :')\n",
    "string = [x,y]\n",
    "print (string)\n",
    "string.sort ()\n",
    "print ('String yang telah diurutkan berdasarkan alfabet : ')\n",
    "print (string)"
   ]
  },
  {
   "cell_type": "code",
   "execution_count": 6,
   "id": "da719694",
   "metadata": {},
   "outputs": [
    {
     "name": "stdout",
     "output_type": "stream",
     "text": [
      "                                                    Jawaban Nomor 3                                                     \n",
      "Masukkan nilai x : 10\n",
      "Masukkan nilai y : 5\n",
      "                                                  Operator Aritmatika                                                   \n",
      "Penjumlahan : \n",
      "10 + 5 = 15\n",
      "--------------------------------------------------------------------------------------\n",
      "Pengurangan : \n",
      "10 - 5 = 5\n",
      "--------------------------------------------------------------------------------------\n",
      "Perkalian : \n",
      "10 x 5 = 50\n",
      "--------------------------------------------------------------------------------------\n",
      "Pembagian : \n",
      "10 / 5 = 2.0\n",
      "--------------------------------------------------------------------------------------\n",
      "Sisa bagi/mod : \n",
      "10 % 5 = 0\n",
      "--------------------------------------------------------------------------------------\n",
      "Perpangkatan : \n",
      "10 ** 5 = 100000\n"
     ]
    }
   ],
   "source": [
    "jwb = 'Jawaban Nomor 3'\n",
    "a = jwb.center (120)\n",
    "print (a)\n",
    "\n",
    "x = int (input ('Masukkan nilai x : '))\n",
    "y = int (input ('Masukkan nilai y : '))\n",
    "\n",
    "a = 'Operator Aritmatika'\n",
    "b = a.center (120)\n",
    "print (b)\n",
    "\n",
    "print ('Penjumlahan : ')\n",
    "i = x + y\n",
    "print (x, '+', y, '=', i)\n",
    "print ('--------------------------------------------------------------------------------------')\n",
    "print ('Pengurangan : ')\n",
    "i = x - y\n",
    "print (x, '-', y, '=', i)\n",
    "print ('--------------------------------------------------------------------------------------')\n",
    "print ('Perkalian : ')\n",
    "i = x * y\n",
    "print (x, 'x', y, '=', i)\n",
    "print ('--------------------------------------------------------------------------------------')\n",
    "print ('Pembagian : ')\n",
    "i = x / y\n",
    "print (x, '/', y, '=', i)\n",
    "print ('--------------------------------------------------------------------------------------')\n",
    "print ('Sisa bagi/mod : ')\n",
    "i = x % y\n",
    "print (x, '%', y, '=', i)\n",
    "print ('--------------------------------------------------------------------------------------')\n",
    "print ('Perpangkatan : ')\n",
    "i = x ** y\n",
    "print (x, '**', y, '=', i)"
   ]
  },
  {
   "cell_type": "code",
   "execution_count": 7,
   "id": "301e0de5",
   "metadata": {},
   "outputs": [
    {
     "name": "stdout",
     "output_type": "stream",
     "text": [
      "                                                    Jawaban Nomor 4                                                     \n",
      "Masukkan 5 angka !\n",
      "Angka ke 1 = 9\n",
      "Angka ke 1 = 8\n",
      "Angka ke 2 = 0\n",
      "Angka ke 3 = 10\n",
      "Angka ke 4 = 1\n",
      "Angka ke 5 = 2\n",
      "Angka terbesar = 10\n",
      "Angka terkecil = 0\n"
     ]
    }
   ],
   "source": [
    "jwb = 'Jawaban Nomor 4'\n",
    "a = jwb.center (120)\n",
    "print (a)\n",
    "\n",
    "print ('Masukkan 5 angka !')\n",
    "i=1\n",
    "x=int (input ('Angka ke '+str(i)+' = '))\n",
    "max=x; min=x;\n",
    "for i in range (1,6):\n",
    "    x=int (input('Angka ke '+str(i)+' = '))\n",
    "    if max<x:\n",
    "        max=x\n",
    "    elif min>x:\n",
    "        min=x\n",
    "print('Angka terbesar =',max)\n",
    "print('Angka terkecil =',min)"
   ]
  }
 ],
 "metadata": {
  "kernelspec": {
   "display_name": "Python 3",
   "language": "python",
   "name": "python3"
  },
  "language_info": {
   "codemirror_mode": {
    "name": "ipython",
    "version": 3
   },
   "file_extension": ".py",
   "mimetype": "text/x-python",
   "name": "python",
   "nbconvert_exporter": "python",
   "pygments_lexer": "ipython3",
   "version": "3.8.8"
  }
 },
 "nbformat": 4,
 "nbformat_minor": 5
}
